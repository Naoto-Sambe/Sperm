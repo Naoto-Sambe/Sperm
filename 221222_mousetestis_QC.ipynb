{
 "cells": [
  {
   "cell_type": "code",
   "execution_count": 1,
   "id": "d5fd663b",
   "metadata": {},
   "outputs": [],
   "source": [
    "import numpy as np\n",
    "import pandas as pd\n",
    "import scanpy as sc\n",
    "import scrublet as scr"
   ]
  },
  {
   "cell_type": "code",
   "execution_count": 2,
   "id": "3466baf4",
   "metadata": {},
   "outputs": [
    {
     "name": "stdout",
     "output_type": "stream",
     "text": [
      "scanpy==1.7.2 anndata==0.7.5 umap==0.5.1 numpy==1.19.5 scipy==1.6.2 pandas==1.1.5 scikit-learn==0.24.1 statsmodels==0.12.2 python-igraph==0.8.3 louvain==0.7.0 leidenalg==0.8.3\n"
     ]
    }
   ],
   "source": [
    "sc.settings.verbosity = 3             # verbosity: errors (0), warnings (1), info (2), hints (3)\n",
    "sc.logging.print_header()\n",
    "sc.settings.set_figure_params(dpi=80, facecolor='white')"
   ]
  },
  {
   "cell_type": "code",
   "execution_count": 3,
   "id": "fc3b3d50",
   "metadata": {},
   "outputs": [],
   "source": [
    "results_file = 'write/221222_mouse_testis_processing.h5ad'"
   ]
  },
  {
   "cell_type": "code",
   "execution_count": 4,
   "id": "eecf6703",
   "metadata": {},
   "outputs": [
    {
     "name": "stderr",
     "output_type": "stream",
     "text": [
      "... reading from cache file cache/mnt-d-Sambe-Mouse_Testis_SC-data-filtered_feature_bc_matrix_1-matrix.h5ad\n"
     ]
    }
   ],
   "source": [
    "adata = sc.read_10x_mtx(\n",
    "    '/mnt/d/Sambe/Mouse_Testis_SC/data/filtered_feature_bc_matrix_1/',  # the directory with the `.mtx` file\n",
    "    var_names='gene_symbols',                # use gene symbols for the variable names (variables-axis index)\n",
    "    cache=True)             "
   ]
  },
  {
   "cell_type": "code",
   "execution_count": 5,
   "id": "c73e9065",
   "metadata": {},
   "outputs": [
    {
     "data": {
      "text/plain": [
       "AnnData object with n_obs × n_vars = 2552 × 51868\n",
       "    var: 'gene_ids', 'feature_types'"
      ]
     },
     "execution_count": 5,
     "metadata": {},
     "output_type": "execute_result"
    }
   ],
   "source": [
    "adata"
   ]
  },
  {
   "cell_type": "code",
   "execution_count": 6,
   "id": "26d6fc58",
   "metadata": {},
   "outputs": [
    {
     "data": {
      "text/html": [
       "<div>\n",
       "<style scoped>\n",
       "    .dataframe tbody tr th:only-of-type {\n",
       "        vertical-align: middle;\n",
       "    }\n",
       "\n",
       "    .dataframe tbody tr th {\n",
       "        vertical-align: top;\n",
       "    }\n",
       "\n",
       "    .dataframe thead th {\n",
       "        text-align: right;\n",
       "    }\n",
       "</style>\n",
       "<table border=\"1\" class=\"dataframe\">\n",
       "  <thead>\n",
       "    <tr style=\"text-align: right;\">\n",
       "      <th></th>\n",
       "    </tr>\n",
       "  </thead>\n",
       "  <tbody>\n",
       "    <tr>\n",
       "      <th>AAACCTGAGCTTATCG-1</th>\n",
       "    </tr>\n",
       "    <tr>\n",
       "      <th>AAACCTGGTTGAGTTC-1</th>\n",
       "    </tr>\n",
       "    <tr>\n",
       "      <th>AAACCTGTCAACGAAA-1</th>\n",
       "    </tr>\n",
       "    <tr>\n",
       "      <th>AAACGGGCACAGGTTT-1</th>\n",
       "    </tr>\n",
       "    <tr>\n",
       "      <th>AAACGGGTCATTTGGG-1</th>\n",
       "    </tr>\n",
       "    <tr>\n",
       "      <th>...</th>\n",
       "    </tr>\n",
       "    <tr>\n",
       "      <th>TTTGGTTTCTACTATC-2</th>\n",
       "    </tr>\n",
       "    <tr>\n",
       "      <th>TTTGTCACATCGGTTA-2</th>\n",
       "    </tr>\n",
       "    <tr>\n",
       "      <th>TTTGTCAGTCCAGTTA-2</th>\n",
       "    </tr>\n",
       "    <tr>\n",
       "      <th>TTTGTCATCTGTCCGT-2</th>\n",
       "    </tr>\n",
       "    <tr>\n",
       "      <th>TTTGTCATCTTTCCTC-2</th>\n",
       "    </tr>\n",
       "  </tbody>\n",
       "</table>\n",
       "<p>2552 rows × 0 columns</p>\n",
       "</div>"
      ],
      "text/plain": [
       "Empty DataFrame\n",
       "Columns: []\n",
       "Index: [AAACCTGAGCTTATCG-1, AAACCTGGTTGAGTTC-1, AAACCTGTCAACGAAA-1, AAACGGGCACAGGTTT-1, AAACGGGTCATTTGGG-1, AAACGGGTCCTCATTA-1, AAAGATGAGGTACTCT-1, AAAGCAAAGACAGACC-1, AAAGCAAAGGTACTCT-1, AAAGCAACAAAGTCAA-1, AAAGCAAGTGATGATA-1, AAAGCAAGTTCCTCCA-1, AAAGTAGCAGCGTAAG-1, AAAGTAGGTGTTCGAT-1, AAAGTAGTCCGCAGTG-1, AAATGCCCAAAGGTGC-1, AAATGCCCACTTACGA-1, AAATGCCGTACCTACA-1, AACACGTCAGACAGGT-1, AACACGTGTCGCTTCT-1, AACCATGAGAGGTACC-1, AACCATGAGATCCGAG-1, AACCGCGAGGACCACA-1, AACCGCGCAGGATCGA-1, AACCGCGGTCATGCAT-1, AACGTTGAGGGAGTAA-1, AACGTTGTCCACGTGG-1, AACGTTGTCTGCCAGG-1, AACTCAGCAATGGTCT-1, AACTCAGGTAAATGTG-1, AACTCAGTCGACGGAA-1, AACTCTTGTGAGCGAT-1, AACTCTTGTTGGTGGA-1, AACTCTTTCAGTTTGG-1, AACTGGTAGAGAGCTC-1, AACTGGTCAGTCCTTC-1, AACTGGTGTCAATGTC-1, AACTTTCCACAGACTT-1, AACTTTCGTCCGTCAG-1, AAGACCTCACAGGTTT-1, AAGACCTGTGTTCGAT-1, AAGCCGCAGAACAACT-1, AAGCCGCAGTTCGCAT-1, AAGGAGCGTCTTCGTC-1, AAGGAGCGTCTTTCAT-1, AAGGAGCGTGCACTTA-1, AAGGTTCTCTTCGAGA-1, AAGTCTGAGTAGGTGC-1, AAGTCTGGTAAATACG-1, AAGTCTGGTCCAGTGC-1, AAGTCTGTCTACTATC-1, AATCCAGCATCCCACT-1, AATCGGTCAAGTCTAC-1, AATCGGTCAGGGAGAG-1, AATCGGTGTATAGTAG-1, ACACCAAAGAGCAATT-1, ACACCAACAAGCGATG-1, ACACCAATCGCTTAGA-1, ACACCCTCAACACCTA-1, ACACCCTGTAGGACAC-1, ACACCCTTCCATTCTA-1, ACACCCTTCTTAGAGC-1, ACACCGGAGAAGGCCT-1, ACACCGGAGTATCTCG-1, ACACCGGAGTCCGGTC-1, ACACTGAAGTCTCAAC-1, ACACTGAGTGCGGTAA-1, ACACTGATCCACGTGG-1, ACAGCCGAGAGAGCTC-1, ACAGCCGAGCTACCTA-1, ACAGCCGGTTTGCATG-1, ACAGCTAAGGACATTA-1, ACAGCTACAATCGGTT-1, ACATACGAGAAGGCCT-1, ACATACGAGAGCTATA-1, ACATACGAGATGGGTC-1, ACATCAGCATCGGACC-1, ACATGGTAGACGCAAC-1, ACATGGTCAGCATACT-1, ACATGGTCATCAGTCA-1, ACATGGTGTGCATCTA-1, ACATGGTTCTGCCCTA-1, ACCAGTAAGGCTCTTA-1, ACCGTAAGTGCAGTAG-1, ACCGTAATCAAACGGG-1, ACCGTAATCCGCATCT-1, ACCTTTACAGACGCTC-1, ACGAGCCGTTAAGATG-1, ACGAGCCTCCTGCAGG-1, ACGAGGAAGATCCGAG-1, ACGAGGACAGACAGGT-1, ACGAGGAGTACCGTTA-1, ACGAGGAGTCCGTTAA-1, ACGAGGAGTGATGCCC-1, ACGAGGATCTGGCGAC-1, ACGATACGTAGCGTGA-1, ACGATGTCATTCGACA-1, ACGATGTTCCTGCAGG-1, ACGCAGCAGACAGGCT-1, ACGCCAGAGCCAGGAT-1, ...]\n",
       "\n",
       "[2552 rows x 0 columns]"
      ]
     },
     "execution_count": 6,
     "metadata": {},
     "output_type": "execute_result"
    }
   ],
   "source": [
    "adata.obs"
   ]
  },
  {
   "cell_type": "code",
   "execution_count": 7,
   "id": "cdd01999",
   "metadata": {},
   "outputs": [
    {
     "data": {
      "text/html": [
       "<div>\n",
       "<style scoped>\n",
       "    .dataframe tbody tr th:only-of-type {\n",
       "        vertical-align: middle;\n",
       "    }\n",
       "\n",
       "    .dataframe tbody tr th {\n",
       "        vertical-align: top;\n",
       "    }\n",
       "\n",
       "    .dataframe thead th {\n",
       "        text-align: right;\n",
       "    }\n",
       "</style>\n",
       "<table border=\"1\" class=\"dataframe\">\n",
       "  <thead>\n",
       "    <tr style=\"text-align: right;\">\n",
       "      <th></th>\n",
       "      <th>gene_ids</th>\n",
       "      <th>feature_types</th>\n",
       "    </tr>\n",
       "  </thead>\n",
       "  <tbody>\n",
       "    <tr>\n",
       "      <th>4933401J01Rik</th>\n",
       "      <td>ENSMUSG00000102693</td>\n",
       "      <td>Gene Expression</td>\n",
       "    </tr>\n",
       "    <tr>\n",
       "      <th>Gm26206</th>\n",
       "      <td>ENSMUSG00000064842</td>\n",
       "      <td>Gene Expression</td>\n",
       "    </tr>\n",
       "    <tr>\n",
       "      <th>Xkr4</th>\n",
       "      <td>ENSMUSG00000051951</td>\n",
       "      <td>Gene Expression</td>\n",
       "    </tr>\n",
       "    <tr>\n",
       "      <th>Gm18956</th>\n",
       "      <td>ENSMUSG00000102851</td>\n",
       "      <td>Gene Expression</td>\n",
       "    </tr>\n",
       "    <tr>\n",
       "      <th>Gm37180</th>\n",
       "      <td>ENSMUSG00000103377</td>\n",
       "      <td>Gene Expression</td>\n",
       "    </tr>\n",
       "    <tr>\n",
       "      <th>...</th>\n",
       "      <td>...</td>\n",
       "      <td>...</td>\n",
       "    </tr>\n",
       "    <tr>\n",
       "      <th>ZOMBI_Mariner/Tc1_Eutheria</th>\n",
       "      <td>ZOMBI_Mariner/Tc1_Eutheria</td>\n",
       "      <td>Gene Expression</td>\n",
       "    </tr>\n",
       "    <tr>\n",
       "      <th>ZOMBI_B_Mariner/Tc1_Eutheria</th>\n",
       "      <td>ZOMBI_B_Mariner/Tc1_Eutheria</td>\n",
       "      <td>Gene Expression</td>\n",
       "    </tr>\n",
       "    <tr>\n",
       "      <th>ZOMBI_C_Mariner/Tc1_Eutheria</th>\n",
       "      <td>ZOMBI_C_Mariner/Tc1_Eutheria</td>\n",
       "      <td>Gene Expression</td>\n",
       "    </tr>\n",
       "    <tr>\n",
       "      <th>ZP3AR_Satellite_Muridae</th>\n",
       "      <td>ZP3AR_Satellite_Muridae</td>\n",
       "      <td>Gene Expression</td>\n",
       "    </tr>\n",
       "    <tr>\n",
       "      <th>ZP3AR_MM_Satellite_Mus</th>\n",
       "      <td>ZP3AR_MM_Satellite_Mus</td>\n",
       "      <td>Gene Expression</td>\n",
       "    </tr>\n",
       "  </tbody>\n",
       "</table>\n",
       "<p>51868 rows × 2 columns</p>\n",
       "</div>"
      ],
      "text/plain": [
       "                                                  gene_ids    feature_types\n",
       "4933401J01Rik                           ENSMUSG00000102693  Gene Expression\n",
       "Gm26206                                 ENSMUSG00000064842  Gene Expression\n",
       "Xkr4                                    ENSMUSG00000051951  Gene Expression\n",
       "Gm18956                                 ENSMUSG00000102851  Gene Expression\n",
       "Gm37180                                 ENSMUSG00000103377  Gene Expression\n",
       "...                                                    ...              ...\n",
       "ZOMBI_Mariner/Tc1_Eutheria      ZOMBI_Mariner/Tc1_Eutheria  Gene Expression\n",
       "ZOMBI_B_Mariner/Tc1_Eutheria  ZOMBI_B_Mariner/Tc1_Eutheria  Gene Expression\n",
       "ZOMBI_C_Mariner/Tc1_Eutheria  ZOMBI_C_Mariner/Tc1_Eutheria  Gene Expression\n",
       "ZP3AR_Satellite_Muridae            ZP3AR_Satellite_Muridae  Gene Expression\n",
       "ZP3AR_MM_Satellite_Mus              ZP3AR_MM_Satellite_Mus  Gene Expression\n",
       "\n",
       "[51868 rows x 2 columns]"
      ]
     },
     "execution_count": 7,
     "metadata": {},
     "output_type": "execute_result"
    }
   ],
   "source": [
    "adata.var"
   ]
  },
  {
   "cell_type": "code",
   "execution_count": 8,
   "id": "bb254454",
   "metadata": {},
   "outputs": [
    {
     "name": "stderr",
     "output_type": "stream",
     "text": [
      "normalizing counts per cell\n",
      "    finished (0:00:00)\n"
     ]
    }
   ],
   "source": [
    "sc.pl.highest_expr_genes(adata, n_top=20)"
   ]
  },
  {
   "cell_type": "code",
   "execution_count": 9,
   "id": "8a83a42d",
   "metadata": {},
   "outputs": [],
   "source": [
    "adata.var['mt'] = adata.var_names.str.startswith('mt-') "
   ]
  },
  {
   "cell_type": "code",
   "execution_count": 10,
   "id": "a29cb450",
   "metadata": {},
   "outputs": [
    {
     "data": {
      "text/html": [
       "<div>\n",
       "<style scoped>\n",
       "    .dataframe tbody tr th:only-of-type {\n",
       "        vertical-align: middle;\n",
       "    }\n",
       "\n",
       "    .dataframe tbody tr th {\n",
       "        vertical-align: top;\n",
       "    }\n",
       "\n",
       "    .dataframe thead th {\n",
       "        text-align: right;\n",
       "    }\n",
       "</style>\n",
       "<table border=\"1\" class=\"dataframe\">\n",
       "  <thead>\n",
       "    <tr style=\"text-align: right;\">\n",
       "      <th></th>\n",
       "      <th>gene_ids</th>\n",
       "      <th>feature_types</th>\n",
       "      <th>mt</th>\n",
       "    </tr>\n",
       "  </thead>\n",
       "  <tbody>\n",
       "    <tr>\n",
       "      <th>4933401J01Rik</th>\n",
       "      <td>ENSMUSG00000102693</td>\n",
       "      <td>Gene Expression</td>\n",
       "      <td>False</td>\n",
       "    </tr>\n",
       "    <tr>\n",
       "      <th>Gm26206</th>\n",
       "      <td>ENSMUSG00000064842</td>\n",
       "      <td>Gene Expression</td>\n",
       "      <td>False</td>\n",
       "    </tr>\n",
       "    <tr>\n",
       "      <th>Xkr4</th>\n",
       "      <td>ENSMUSG00000051951</td>\n",
       "      <td>Gene Expression</td>\n",
       "      <td>False</td>\n",
       "    </tr>\n",
       "    <tr>\n",
       "      <th>Gm18956</th>\n",
       "      <td>ENSMUSG00000102851</td>\n",
       "      <td>Gene Expression</td>\n",
       "      <td>False</td>\n",
       "    </tr>\n",
       "    <tr>\n",
       "      <th>Gm37180</th>\n",
       "      <td>ENSMUSG00000103377</td>\n",
       "      <td>Gene Expression</td>\n",
       "      <td>False</td>\n",
       "    </tr>\n",
       "    <tr>\n",
       "      <th>...</th>\n",
       "      <td>...</td>\n",
       "      <td>...</td>\n",
       "      <td>...</td>\n",
       "    </tr>\n",
       "    <tr>\n",
       "      <th>ZOMBI_Mariner/Tc1_Eutheria</th>\n",
       "      <td>ZOMBI_Mariner/Tc1_Eutheria</td>\n",
       "      <td>Gene Expression</td>\n",
       "      <td>False</td>\n",
       "    </tr>\n",
       "    <tr>\n",
       "      <th>ZOMBI_B_Mariner/Tc1_Eutheria</th>\n",
       "      <td>ZOMBI_B_Mariner/Tc1_Eutheria</td>\n",
       "      <td>Gene Expression</td>\n",
       "      <td>False</td>\n",
       "    </tr>\n",
       "    <tr>\n",
       "      <th>ZOMBI_C_Mariner/Tc1_Eutheria</th>\n",
       "      <td>ZOMBI_C_Mariner/Tc1_Eutheria</td>\n",
       "      <td>Gene Expression</td>\n",
       "      <td>False</td>\n",
       "    </tr>\n",
       "    <tr>\n",
       "      <th>ZP3AR_Satellite_Muridae</th>\n",
       "      <td>ZP3AR_Satellite_Muridae</td>\n",
       "      <td>Gene Expression</td>\n",
       "      <td>False</td>\n",
       "    </tr>\n",
       "    <tr>\n",
       "      <th>ZP3AR_MM_Satellite_Mus</th>\n",
       "      <td>ZP3AR_MM_Satellite_Mus</td>\n",
       "      <td>Gene Expression</td>\n",
       "      <td>False</td>\n",
       "    </tr>\n",
       "  </tbody>\n",
       "</table>\n",
       "<p>51868 rows × 3 columns</p>\n",
       "</div>"
      ],
      "text/plain": [
       "                                                  gene_ids    feature_types  \\\n",
       "4933401J01Rik                           ENSMUSG00000102693  Gene Expression   \n",
       "Gm26206                                 ENSMUSG00000064842  Gene Expression   \n",
       "Xkr4                                    ENSMUSG00000051951  Gene Expression   \n",
       "Gm18956                                 ENSMUSG00000102851  Gene Expression   \n",
       "Gm37180                                 ENSMUSG00000103377  Gene Expression   \n",
       "...                                                    ...              ...   \n",
       "ZOMBI_Mariner/Tc1_Eutheria      ZOMBI_Mariner/Tc1_Eutheria  Gene Expression   \n",
       "ZOMBI_B_Mariner/Tc1_Eutheria  ZOMBI_B_Mariner/Tc1_Eutheria  Gene Expression   \n",
       "ZOMBI_C_Mariner/Tc1_Eutheria  ZOMBI_C_Mariner/Tc1_Eutheria  Gene Expression   \n",
       "ZP3AR_Satellite_Muridae            ZP3AR_Satellite_Muridae  Gene Expression   \n",
       "ZP3AR_MM_Satellite_Mus              ZP3AR_MM_Satellite_Mus  Gene Expression   \n",
       "\n",
       "                                 mt  \n",
       "4933401J01Rik                 False  \n",
       "Gm26206                       False  \n",
       "Xkr4                          False  \n",
       "Gm18956                       False  \n",
       "Gm37180                       False  \n",
       "...                             ...  \n",
       "ZOMBI_Mariner/Tc1_Eutheria    False  \n",
       "ZOMBI_B_Mariner/Tc1_Eutheria  False  \n",
       "ZOMBI_C_Mariner/Tc1_Eutheria  False  \n",
       "ZP3AR_Satellite_Muridae       False  \n",
       "ZP3AR_MM_Satellite_Mus        False  \n",
       "\n",
       "[51868 rows x 3 columns]"
      ]
     },
     "execution_count": 10,
     "metadata": {},
     "output_type": "execute_result"
    }
   ],
   "source": [
    "adata.var"
   ]
  },
  {
   "cell_type": "code",
   "execution_count": 11,
   "id": "579d1f20",
   "metadata": {},
   "outputs": [],
   "source": [
    "sc.pp.calculate_qc_metrics(adata, qc_vars=['mt'], percent_top=None, log1p=False, inplace=True)"
   ]
  },
  {
   "cell_type": "code",
   "execution_count": 12,
   "id": "100ddbfd",
   "metadata": {},
   "outputs": [
    {
     "data": {
      "text/plain": [
       "AnnData object with n_obs × n_vars = 2552 × 51868\n",
       "    obs: 'n_genes_by_counts', 'total_counts', 'total_counts_mt', 'pct_counts_mt'\n",
       "    var: 'gene_ids', 'feature_types', 'mt', 'n_cells_by_counts', 'mean_counts', 'pct_dropout_by_counts', 'total_counts'"
      ]
     },
     "execution_count": 12,
     "metadata": {},
     "output_type": "execute_result"
    }
   ],
   "source": [
    "adata"
   ]
  },
  {
   "cell_type": "code",
   "execution_count": 13,
   "id": "13e80870",
   "metadata": {},
   "outputs": [
    {
     "name": "stderr",
     "output_type": "stream",
     "text": [
      "... storing 'feature_types' as categorical\n"
     ]
    }
   ],
   "source": [
    "sc.pl.violin(adata, ['n_genes_by_counts', 'total_counts'], jitter=0.4, rotation= 45)\n",
    "sc.pl.violin(adata, ['pct_counts_mt'], jitter=0.4, rotation= 45)"
   ]
  },
  {
   "cell_type": "code",
   "execution_count": 14,
   "id": "9db9372c",
   "metadata": {},
   "outputs": [],
   "source": [
    "sc.pl.scatter(adata, x='total_counts', y='pct_counts_mt')\n",
    "sc.pl.scatter(adata, x='total_counts', y='n_genes_by_counts')"
   ]
  },
  {
   "cell_type": "code",
   "execution_count": 15,
   "id": "dc666f1b",
   "metadata": {},
   "outputs": [
    {
     "data": {
      "text/html": [
       "<div>\n",
       "<style scoped>\n",
       "    .dataframe tbody tr th:only-of-type {\n",
       "        vertical-align: middle;\n",
       "    }\n",
       "\n",
       "    .dataframe tbody tr th {\n",
       "        vertical-align: top;\n",
       "    }\n",
       "\n",
       "    .dataframe thead th {\n",
       "        text-align: right;\n",
       "    }\n",
       "</style>\n",
       "<table border=\"1\" class=\"dataframe\">\n",
       "  <thead>\n",
       "    <tr style=\"text-align: right;\">\n",
       "      <th></th>\n",
       "      <th>n_genes_by_counts</th>\n",
       "      <th>total_counts</th>\n",
       "      <th>total_counts_mt</th>\n",
       "      <th>pct_counts_mt</th>\n",
       "    </tr>\n",
       "  </thead>\n",
       "  <tbody>\n",
       "    <tr>\n",
       "      <th>AAACCTGAGCTTATCG-1</th>\n",
       "      <td>4977</td>\n",
       "      <td>23114.0</td>\n",
       "      <td>8.0</td>\n",
       "      <td>0.034611</td>\n",
       "    </tr>\n",
       "    <tr>\n",
       "      <th>AAACCTGGTTGAGTTC-1</th>\n",
       "      <td>4694</td>\n",
       "      <td>19002.0</td>\n",
       "      <td>8.0</td>\n",
       "      <td>0.042101</td>\n",
       "    </tr>\n",
       "    <tr>\n",
       "      <th>AAACCTGTCAACGAAA-1</th>\n",
       "      <td>4908</td>\n",
       "      <td>22849.0</td>\n",
       "      <td>1.0</td>\n",
       "      <td>0.004377</td>\n",
       "    </tr>\n",
       "    <tr>\n",
       "      <th>AAACGGGCACAGGTTT-1</th>\n",
       "      <td>5392</td>\n",
       "      <td>27921.0</td>\n",
       "      <td>4.0</td>\n",
       "      <td>0.014326</td>\n",
       "    </tr>\n",
       "    <tr>\n",
       "      <th>AAACGGGTCATTTGGG-1</th>\n",
       "      <td>4718</td>\n",
       "      <td>18466.0</td>\n",
       "      <td>4.0</td>\n",
       "      <td>0.021661</td>\n",
       "    </tr>\n",
       "    <tr>\n",
       "      <th>...</th>\n",
       "      <td>...</td>\n",
       "      <td>...</td>\n",
       "      <td>...</td>\n",
       "      <td>...</td>\n",
       "    </tr>\n",
       "    <tr>\n",
       "      <th>TTTGGTTTCTACTATC-2</th>\n",
       "      <td>4196</td>\n",
       "      <td>14006.0</td>\n",
       "      <td>8.0</td>\n",
       "      <td>0.057118</td>\n",
       "    </tr>\n",
       "    <tr>\n",
       "      <th>TTTGTCACATCGGTTA-2</th>\n",
       "      <td>4960</td>\n",
       "      <td>23094.0</td>\n",
       "      <td>5.0</td>\n",
       "      <td>0.021651</td>\n",
       "    </tr>\n",
       "    <tr>\n",
       "      <th>TTTGTCAGTCCAGTTA-2</th>\n",
       "      <td>1856</td>\n",
       "      <td>7613.0</td>\n",
       "      <td>1.0</td>\n",
       "      <td>0.013135</td>\n",
       "    </tr>\n",
       "    <tr>\n",
       "      <th>TTTGTCATCTGTCCGT-2</th>\n",
       "      <td>4868</td>\n",
       "      <td>20155.0</td>\n",
       "      <td>79.0</td>\n",
       "      <td>0.391962</td>\n",
       "    </tr>\n",
       "    <tr>\n",
       "      <th>TTTGTCATCTTTCCTC-2</th>\n",
       "      <td>2026</td>\n",
       "      <td>11816.0</td>\n",
       "      <td>3.0</td>\n",
       "      <td>0.025389</td>\n",
       "    </tr>\n",
       "  </tbody>\n",
       "</table>\n",
       "<p>2552 rows × 4 columns</p>\n",
       "</div>"
      ],
      "text/plain": [
       "                    n_genes_by_counts  total_counts  total_counts_mt  \\\n",
       "AAACCTGAGCTTATCG-1               4977       23114.0              8.0   \n",
       "AAACCTGGTTGAGTTC-1               4694       19002.0              8.0   \n",
       "AAACCTGTCAACGAAA-1               4908       22849.0              1.0   \n",
       "AAACGGGCACAGGTTT-1               5392       27921.0              4.0   \n",
       "AAACGGGTCATTTGGG-1               4718       18466.0              4.0   \n",
       "...                               ...           ...              ...   \n",
       "TTTGGTTTCTACTATC-2               4196       14006.0              8.0   \n",
       "TTTGTCACATCGGTTA-2               4960       23094.0              5.0   \n",
       "TTTGTCAGTCCAGTTA-2               1856        7613.0              1.0   \n",
       "TTTGTCATCTGTCCGT-2               4868       20155.0             79.0   \n",
       "TTTGTCATCTTTCCTC-2               2026       11816.0              3.0   \n",
       "\n",
       "                    pct_counts_mt  \n",
       "AAACCTGAGCTTATCG-1       0.034611  \n",
       "AAACCTGGTTGAGTTC-1       0.042101  \n",
       "AAACCTGTCAACGAAA-1       0.004377  \n",
       "AAACGGGCACAGGTTT-1       0.014326  \n",
       "AAACGGGTCATTTGGG-1       0.021661  \n",
       "...                           ...  \n",
       "TTTGGTTTCTACTATC-2       0.057118  \n",
       "TTTGTCACATCGGTTA-2       0.021651  \n",
       "TTTGTCAGTCCAGTTA-2       0.013135  \n",
       "TTTGTCATCTGTCCGT-2       0.391962  \n",
       "TTTGTCATCTTTCCTC-2       0.025389  \n",
       "\n",
       "[2552 rows x 4 columns]"
      ]
     },
     "execution_count": 15,
     "metadata": {},
     "output_type": "execute_result"
    }
   ],
   "source": [
    "adata.obs"
   ]
  },
  {
   "cell_type": "code",
   "execution_count": 16,
   "id": "b527df21",
   "metadata": {},
   "outputs": [],
   "source": [
    "adata = adata[adata.obs['pct_counts_mt'] < 10, :]"
   ]
  },
  {
   "cell_type": "code",
   "execution_count": 17,
   "id": "dab6070f",
   "metadata": {},
   "outputs": [
    {
     "data": {
      "text/plain": [
       "View of AnnData object with n_obs × n_vars = 2548 × 51868\n",
       "    obs: 'n_genes_by_counts', 'total_counts', 'total_counts_mt', 'pct_counts_mt'\n",
       "    var: 'gene_ids', 'feature_types', 'mt', 'n_cells_by_counts', 'mean_counts', 'pct_dropout_by_counts', 'total_counts'"
      ]
     },
     "execution_count": 17,
     "metadata": {},
     "output_type": "execute_result"
    }
   ],
   "source": [
    "adata"
   ]
  },
  {
   "cell_type": "code",
   "execution_count": 18,
   "id": "2b9a3784",
   "metadata": {},
   "outputs": [
    {
     "name": "stderr",
     "output_type": "stream",
     "text": [
      "Trying to set attribute `.obs` of view, copying.\n",
      "filtered out 28559 genes that are detected in less than 3 cells\n"
     ]
    }
   ],
   "source": [
    "sc.pp.filter_cells(adata, min_genes=200)\n",
    "sc.pp.filter_genes(adata, min_cells=3)"
   ]
  },
  {
   "cell_type": "code",
   "execution_count": 19,
   "id": "fabe2258",
   "metadata": {},
   "outputs": [
    {
     "data": {
      "text/plain": [
       "AnnData object with n_obs × n_vars = 2548 × 23309\n",
       "    obs: 'n_genes_by_counts', 'total_counts', 'total_counts_mt', 'pct_counts_mt', 'n_genes'\n",
       "    var: 'gene_ids', 'feature_types', 'mt', 'n_cells_by_counts', 'mean_counts', 'pct_dropout_by_counts', 'total_counts', 'n_cells'"
      ]
     },
     "execution_count": 19,
     "metadata": {},
     "output_type": "execute_result"
    }
   ],
   "source": [
    "adata"
   ]
  },
  {
   "cell_type": "code",
   "execution_count": 20,
   "id": "e53cfe6b",
   "metadata": {},
   "outputs": [],
   "source": [
    "sc.pl.violin(adata, ['pct_counts_mt'], jitter=0.4, rotation= 45)\n",
    "sc.pl.scatter(adata, x='total_counts', y='pct_counts_mt')"
   ]
  },
  {
   "cell_type": "code",
   "execution_count": 21,
   "id": "c49eb071",
   "metadata": {},
   "outputs": [],
   "source": [
    "adata.raw = adata"
   ]
  },
  {
   "cell_type": "code",
   "execution_count": 22,
   "id": "94a09947",
   "metadata": {},
   "outputs": [
    {
     "name": "stderr",
     "output_type": "stream",
     "text": [
      "normalizing by total count per cell\n",
      "    finished (0:00:00): normalized adata.X and added    'n_counts', counts per cell before normalization (adata.obs)\n",
      "... as `zero_center=True`, sparse input is densified and may lead to large memory consumption\n"
     ]
    }
   ],
   "source": [
    "sc.pp.normalize_per_cell(adata, counts_per_cell_after=1e4)\n",
    "sc.pp.log1p(adata)\n",
    "sc.pp.scale(adata)"
   ]
  },
  {
   "cell_type": "code",
   "execution_count": 23,
   "id": "f678664e",
   "metadata": {},
   "outputs": [
    {
     "name": "stdout",
     "output_type": "stream",
     "text": [
      "Preprocessing...\n",
      "Simulating doublets...\n",
      "Embedding transcriptomes using PCA...\n",
      "Calculating doublet scores...\n",
      "Automatically set threshold at doublet score = 0.40\n",
      "Detected doublet rate = 0.9%\n",
      "Estimated detectable doublet fraction = 61.5%\n",
      "Overall doublet rate:\n",
      "\tExpected   = 10.0%\n",
      "\tEstimated  = 1.5%\n",
      "Elapsed time: 2.5 seconds\n"
     ]
    },
    {
     "data": {
      "text/plain": [
       "24"
      ]
     },
     "execution_count": 23,
     "metadata": {},
     "output_type": "execute_result"
    }
   ],
   "source": [
    "scrub = scr.Scrublet(adata.raw.X)\n",
    "adata.obs['doublet_scores'], adata.obs['predicted_doublets'] = scrub.scrub_doublets()\n",
    "scrub.plot_histogram()\n",
    "\n",
    "sum(adata.obs['predicted_doublets'])"
   ]
  },
  {
   "cell_type": "code",
   "execution_count": 24,
   "id": "7d603b28",
   "metadata": {},
   "outputs": [],
   "source": [
    "adata.obs['doublet_info'] = adata.obs[\"predicted_doublets\"].astype(str)\n",
    "# 文字にしておく、後の操作のために"
   ]
  },
  {
   "cell_type": "code",
   "execution_count": 25,
   "id": "90a5442f",
   "metadata": {},
   "outputs": [
    {
     "name": "stderr",
     "output_type": "stream",
     "text": [
      "... storing 'doublet_info' as categorical\n"
     ]
    }
   ],
   "source": [
    "sc.pl.violin(adata, 'n_genes_by_counts',\n",
    "             jitter=0.4, groupby = 'doublet_info', rotation=45)\n",
    "#オプションのつけ方は、API"
   ]
  },
  {
   "cell_type": "code",
   "execution_count": 26,
   "id": "a67063a6",
   "metadata": {},
   "outputs": [
    {
     "name": "stdout",
     "output_type": "stream",
     "text": [
      "(2524, 23309)\n"
     ]
    }
   ],
   "source": [
    "adata = adata.raw.to_adata() \n",
    "\n",
    "adata = adata[adata.obs['doublet_info'] == 'False',:]\n",
    "print(adata.shape)"
   ]
  },
  {
   "cell_type": "code",
   "execution_count": 27,
   "id": "a5d0b12a",
   "metadata": {},
   "outputs": [],
   "source": [
    "adata.write(results_file)"
   ]
  },
  {
   "cell_type": "code",
   "execution_count": null,
   "id": "72b7ea99",
   "metadata": {},
   "outputs": [],
   "source": []
  }
 ],
 "metadata": {
  "kernelspec": {
   "display_name": "scenic_protocol",
   "language": "python",
   "name": "scenic_protocol"
  },
  "language_info": {
   "codemirror_mode": {
    "name": "ipython",
    "version": 3
   },
   "file_extension": ".py",
   "mimetype": "text/x-python",
   "name": "python",
   "nbconvert_exporter": "python",
   "pygments_lexer": "ipython3",
   "version": "3.8.5"
  }
 },
 "nbformat": 4,
 "nbformat_minor": 5
}
